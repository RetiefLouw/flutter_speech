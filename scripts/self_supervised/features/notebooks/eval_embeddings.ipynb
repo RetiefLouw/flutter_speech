{
 "cells": [
  {
   "cell_type": "code",
   "execution_count": 28,
   "metadata": {},
   "outputs": [],
   "source": [
    "from scipy.spatial.distance import pdist\n",
    "import numpy as np\n",
    "from pathlib import  Path"
   ]
  },
  {
   "cell_type": "code",
   "execution_count": 42,
   "metadata": {},
   "outputs": [
    {
     "data": {
      "text/plain": [
       "(482, 1024)"
      ]
     },
     "execution_count": 42,
     "metadata": {},
     "output_type": "execute_result"
    }
   ],
   "source": [
    "file_dir = \"out/wav2vec2-large-xlsr-53-layer12-mvn//embedings.npz\"\n",
    "\n",
    "npz = np.load(file_dir)\n",
    "\n",
    "out_dir = f\"{Path(file_dir).parent}\"\n",
    "\n",
    "keys = [*npz]\n",
    "z = np.array([npz[k] for k in keys])\n",
    "z.shape"
   ]
  },
  {
   "cell_type": "code",
   "execution_count": 43,
   "metadata": {},
   "outputs": [],
   "source": [
    "pair_dist = pdist(z, metric=\"cosine\")"
   ]
  },
  {
   "cell_type": "code",
   "execution_count": 44,
   "metadata": {},
   "outputs": [],
   "source": [
    "pair_dist.shape\n",
    "with open(f\"{out_dir}/dist.txt\", \"w\")  as f:\n",
    "    for d in pair_dist:\n",
    "        f.write(f\"{d}\\n\")"
   ]
  },
  {
   "cell_type": "code",
   "execution_count": 45,
   "metadata": {},
   "outputs": [],
   "source": [
    "labels = [x.split(\"_\")[0] for x in keys]\n",
    "speakers = [x.split(\"_\")[2] for x in keys]\n",
    "\n",
    "with open(f\"{out_dir}/labels.txt\", \"w\")  as f:\n",
    "    for label in labels:\n",
    "        f.write(f\"{label}\\n\") \n",
    "\n",
    "with open(f\"{out_dir}/speakers.txt\", \"w\")  as f:\n",
    "    for spk in speakers:\n",
    "        f.write(f\"{spk}\\n\")"
   ]
  },
  {
   "cell_type": "code",
   "execution_count": 46,
   "metadata": {},
   "outputs": [],
   "source": [
    "# Run samediff.py with exported files"
   ]
  },
  {
   "cell_type": "code",
   "execution_count": null,
   "metadata": {},
   "outputs": [],
   "source": []
  }
 ],
 "metadata": {
  "kernelspec": {
   "display_name": "onnx",
   "language": "python",
   "name": "python3"
  },
  "language_info": {
   "codemirror_mode": {
    "name": "ipython",
    "version": 3
   },
   "file_extension": ".py",
   "mimetype": "text/x-python",
   "name": "python",
   "nbconvert_exporter": "python",
   "pygments_lexer": "ipython3",
   "version": "3.11.10"
  }
 },
 "nbformat": 4,
 "nbformat_minor": 2
}
